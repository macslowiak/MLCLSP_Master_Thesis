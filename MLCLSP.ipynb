{
 "cells": [
  {
   "cell_type": "markdown",
   "source": [
    "# Model MLCLSP\n",
    "\n",
    "(ang. Multi-level Capacitated Lot-sizing Problem, MLCLSP)\n",
    "\n",
    "### Parametry:\n",
    "\n",
    "$\\mathcal{T}$ -- zbiór okresów czasu (zmian, dni lub tygodni),\n",
    "\n",
    "$\\mathcal{N}$ -- zbiór wyrobów,\n",
    "\n",
    "$\\mathcal{M}$ -- zbiór maszyn,\n",
    "\n",
    "$a_{ij}$ -- liczba wyrobów $i$ potrzebnych do wyprodukowania jednego wyrobu $j$,\n",
    "\n",
    "$p_{mi}$ -- czas potrzebny na wyprodukowanie wyrobu $i$ na maszynie $m$,\n",
    "\n",
    "$c_i$ -- koszt przezbrojenia na wykonanie wyrobu $i$,\n",
    "\n",
    "$E_{it}$ -- zewnętrzne zapotrzebowanie na wyrób $i$ w okresie $t$,\n",
    "\n",
    "$G$ -- dowolnie duża liczba,\n",
    "\n",
    "$I_{i0}$ -- zapas początkowy wyrobu $i$,\n",
    "\n",
    "$h_i$ -- jednostkowy koszt utrzymywania zapasów wyrobu $i$,\n",
    "\n",
    "$L_{mt}$ -- dostępny czas pracy maszyny $m$ w okresie $t$,\n",
    "\n",
    "$s_{mi}$ -- czas potrzebny na przezbrojenie maszyny $m$ na produkcję wyrobu $i$,\n",
    "\n",
    "$l_i$ -- czas realizacji = 0,\n",
    "\n",
    "### Zmienne:\n",
    "\n",
    "$I_{it}$ -- zapas wyrobu $i$ na koniec okresu $t$,\n",
    "\n",
    "$x_{it}$ -- wielkość produkcji wyrobu $i$ w okresie $t$,\n",
    "\n",
    "$y_{it} = 1$,  jeżeli  wyrób $i$ jest produkowany w okresie $t$, $0$ w przeciwnym razie."
   ],
   "metadata": {
    "collapsed": false
   }
  },
  {
   "cell_type": "code",
   "execution_count": 1,
   "outputs": [],
   "source": [
    "import numpy as np\n",
    "import pandas as pd"
   ],
   "metadata": {
    "collapsed": false
   }
  },
  {
   "cell_type": "markdown",
   "source": [
    "---\n",
    "## Zaczytanie danych wejściowych z pliku excel"
   ],
   "metadata": {
    "collapsed": false
   }
  },
  {
   "cell_type": "code",
   "execution_count": 2,
   "outputs": [
    {
     "name": "stdout",
     "output_type": "stream",
     "text": [
      "   wyrob  hi  ci  Ii0  li\n",
      "0      0   3   5    0   0\n",
      "1      1   2   5    0   0\n",
      "2      2   2   5    0   0\n",
      "3      3   1   5    0   0\n",
      "   wyrob/okres  1  2\n",
      "0            0  3  0\n",
      "1            1  0  2\n",
      "2            2  0  0\n",
      "3            3  0  0\n",
      "   pmi    0    1    2\n",
      "0    0  0.1  0.0  0.0\n",
      "1    1  0.0  0.4  0.0\n",
      "2    2  0.0  0.0  0.1\n",
      "3    3  0.0  0.0  0.1\n",
      "   smi     0     1     2\n",
      "0    0  0.05  0.00  0.00\n",
      "1    1  0.00  0.05  0.00\n",
      "2    2  0.00  0.00  0.05\n",
      "3    3  0.00  0.00  0.05\n",
      "   Lmt  1  2\n",
      "0    0  1  1\n",
      "1    1  1  1\n",
      "2    2  1  1\n",
      "   j/i  0  1  2  3\n",
      "0    0  0  0  0  0\n",
      "1    1  0  0  0  0\n",
      "2    2  1  0  0  0\n",
      "3    3  0  1  1  0\n"
     ]
    }
   ],
   "source": [
    "# nazwy kolejnych wyrobów, maszyn i okresów w pliku excel muszą być kolejnymi liczbami naturalnymi zaczynającymi się o cyfry 0\n",
    "wejscie_wyroby = pd.read_excel('szablony/MLCLSP_wejscie.xlsx', sheet_name='WYROBY')\n",
    "wejscie_okresy = pd.read_excel('szablony/MLCLSP_wejscie.xlsx', sheet_name='ZAPOTRZEBOWANIE')\n",
    "wejscie_czas_produkcji = pd.read_excel('szablony/MLCLSP_wejscie.xlsx', sheet_name='CZAS_PRODUKCJI')\n",
    "wejscie_czas_przezbrojenia = pd.read_excel('szablony/MLCLSP_wejscie.xlsx', sheet_name='CZAS_PRZEZBROJENIA')\n",
    "wejscie_dostepnosc_maszyn = pd.read_excel('szablony/MLCLSP_wejscie.xlsx', sheet_name='DOSTEPNOSC_MASZYN')\n",
    "bom = pd.read_excel('szablony/MLCLSP_wejscie.xlsx', sheet_name='BOM')\n",
    "\n",
    "print(wejscie_wyroby)\n",
    "print(wejscie_okresy)\n",
    "print(wejscie_czas_produkcji)\n",
    "print(wejscie_czas_przezbrojenia)\n",
    "print(wejscie_dostepnosc_maszyn)\n",
    "print(bom)"
   ],
   "metadata": {
    "collapsed": false
   }
  },
  {
   "cell_type": "markdown",
   "source": [
    "---\n",
    "## Wyciągnięcie danych z zaczytanych tabel"
   ],
   "metadata": {
    "collapsed": false
   }
  },
  {
   "cell_type": "code",
   "execution_count": 3,
   "outputs": [
    {
     "name": "stdout",
     "output_type": "stream",
     "text": [
      "Zbiór wyrobów:  [0 1 2 3]\n",
      "Zbiór okresów:  [1 2]\n",
      "Zbiór maszyn:  [0 1 2]\n",
      "Zbiór okresów z okresem początkowym:  [0 1 2]\n"
     ]
    }
   ],
   "source": [
    "zbior_wyrobow = wejscie_wyroby.loc[:, 'wyrob'].values\n",
    "zbior_okresow = wejscie_okresy.iloc[:, 1:].columns.values\n",
    "zbior_maszyn = wejscie_czas_produkcji.iloc[:, 1:].columns.values\n",
    "zbior_okresow_wraz_z_poczatkowym = np.append(0, zbior_okresow)\n",
    "\n",
    "print('Zbiór wyrobów: ', zbior_wyrobow)\n",
    "print('Zbiór okresów: ', zbior_okresow)\n",
    "print('Zbiór maszyn: ', zbior_maszyn)\n",
    "print('Zbiór okresów z okresem początkowym: ', zbior_okresow_wraz_z_poczatkowym)"
   ],
   "metadata": {
    "collapsed": false
   }
  },
  {
   "cell_type": "code",
   "execution_count": 4,
   "outputs": [
    {
     "name": "stdout",
     "output_type": "stream",
     "text": [
      "Jednostkowy koszt utrzymania wyrobu i:  [3 2 2 1]\n",
      "Koszt przezbrojenia na wykonanie wyrobu i:  [5 5 5 5]\n",
      "Czas realizacji dla wyrobu i:  [0 0 0 0]\n",
      "Zapasy początkowe:  [0 0 0 0]\n"
     ]
    }
   ],
   "source": [
    "h = wejscie_wyroby.loc[:, 'hi'].values\n",
    "c = wejscie_wyroby.loc[:, 'ci'].values\n",
    "l = wejscie_wyroby.loc[:, 'li'].values\n",
    "I_0 = wejscie_wyroby.loc[:, 'Ii0'].values\n",
    "\n",
    "print('Jednostkowy koszt utrzymania wyrobu i: ', h)\n",
    "print('Koszt przezbrojenia na wykonanie wyrobu i: ', c)\n",
    "print('Czas realizacji dla wyrobu i: ', l)\n",
    "print('Zapasy początkowe: ', I_0)"
   ],
   "metadata": {
    "collapsed": false
   }
  },
  {
   "cell_type": "code",
   "execution_count": 5,
   "outputs": [
    {
     "name": "stdout",
     "output_type": "stream",
     "text": [
      "Macierz powiązań między produktami: \n",
      " [[0 0 0 0]\n",
      " [0 0 0 0]\n",
      " [1 0 0 0]\n",
      " [0 1 1 0]]\n",
      "Macierz z zewnętrznym zapotrzebowaniem na produkt i w okresie t (pierwsza kolumna to odpowiednik produktu): \n",
      " [[0 3 0]\n",
      " [1 0 2]\n",
      " [2 0 0]\n",
      " [3 0 0]]\n",
      "Czas produkcji wyrobu i ma maszynie m: \n",
      " [[0.1 0.  0. ]\n",
      " [0.  0.4 0. ]\n",
      " [0.  0.  0.1]\n",
      " [0.  0.  0.1]]\n",
      "Czas przezbrojenia maszyny m na produkcję wyrobu i: \n",
      " [[0.05 0.   0.  ]\n",
      " [0.   0.05 0.  ]\n",
      " [0.   0.   0.05]\n",
      " [0.   0.   0.05]]\n",
      "Dostępnośc maszyny m w okresie t (pierwsza kolumna to odpowiednik maszyny): \n",
      " [[0 1 1]\n",
      " [1 1 1]\n",
      " [2 1 1]]\n"
     ]
    }
   ],
   "source": [
    "a = bom.set_index('j/i').values\n",
    "E = wejscie_okresy.values\n",
    "p = wejscie_czas_produkcji.set_index('pmi').values\n",
    "s = wejscie_czas_przezbrojenia.set_index('smi').values\n",
    "L = wejscie_dostepnosc_maszyn.values\n",
    "G = 1000000\n",
    "\n",
    "print('Macierz powiązań między produktami: \\n', a)\n",
    "print('Macierz z zewnętrznym zapotrzebowaniem na produkt i w okresie t (pierwsza kolumna to odpowiednik produktu): \\n',\n",
    "      E)\n",
    "print('Czas produkcji wyrobu i ma maszynie m: \\n', p)\n",
    "print('Czas przezbrojenia maszyny m na produkcję wyrobu i: \\n', s)\n",
    "print('Dostępnośc maszyny m w okresie t (pierwsza kolumna to odpowiednik maszyny): \\n', L)"
   ],
   "metadata": {
    "collapsed": false
   }
  },
  {
   "cell_type": "markdown",
   "source": [
    "---\n",
    "## Sprawdzenie poprawności wpisanych danych dla czasu produkcji oraz czasu przezbrojenia"
   ],
   "metadata": {
    "collapsed": false
   }
  },
  {
   "cell_type": "markdown",
   "source": [
    "### Funkcje pomocnicze"
   ],
   "metadata": {
    "collapsed": false
   }
  },
  {
   "cell_type": "code",
   "execution_count": 6,
   "outputs": [],
   "source": [
    "def sprawdz_poprawnosc_dla(tabela, nazwa_arkusza):\n",
    "    for kolumna in tabela:\n",
    "        if np.count_nonzero(kolumna) != 1:\n",
    "            raise Exception(\n",
    "                'Każdy wyrób może być produkowany tylko na jednej maszynie. Należy poprawić dane w arkuszu ' + nazwa_arkusza)\n"
   ],
   "metadata": {
    "collapsed": false
   }
  },
  {
   "cell_type": "code",
   "execution_count": 7,
   "outputs": [],
   "source": [
    "sprawdz_poprawnosc_dla(p, 'CZAS_PRODUKCJI')"
   ],
   "metadata": {
    "collapsed": false
   }
  },
  {
   "cell_type": "markdown",
   "source": [
    "---\n",
    "## Utworzenie modelu Gurobi oraz zmiennych\n",
    "\n",
    "$I_{it} >= 0,\n",
    "x_{it} >= 0,\n",
    "y_{it} \\in {0,1} \\qquad i \\in \\mathcal{N}, t \\in \\mathcal{T},$\n"
   ],
   "metadata": {
    "collapsed": false
   }
  },
  {
   "cell_type": "code",
   "execution_count": 8,
   "outputs": [],
   "source": [
    "import gurobipy as gb\n",
    "\n",
    "model = gb.Model('MLCLSP')\n",
    "\n",
    "# Deklaracje zmiennych (decyzyjnych)\n",
    "x = {}\n",
    "y = {}\n",
    "I = {}\n",
    "for i in zbior_wyrobow:\n",
    "    for t in zbior_okresow:\n",
    "        x[i, t] = model.addVar(vtype=gb.GRB.INTEGER, lb=0, name='x(' + str(i) + ',' + str(t) + ')')\n",
    "        y[i, t] = model.addVar(vtype=gb.GRB.BINARY, name='y(' + str(i) + ',' + str(t) + ')')\n",
    "\n",
    "for i in zbior_wyrobow:\n",
    "    for t in zbior_okresow_wraz_z_poczatkowym:\n",
    "        I[i, t] = model.addVar(vtype=gb.GRB.INTEGER, lb=0, name='I(' + str(i) + ',' + str(t) + ')')"
   ],
   "metadata": {
    "collapsed": false
   }
  },
  {
   "cell_type": "markdown",
   "source": [
    "---\n",
    "## Funkcja celu\n",
    "$\n",
    "\\min \\displaystyle\\sum_{i \\in \\mathcal{N}} \\sum_{t \\in \\mathcal{T}}( c_i y_{it} + h_i I_{it} )\n",
    "$"
   ],
   "metadata": {
    "collapsed": false
   }
  },
  {
   "cell_type": "code",
   "execution_count": 9,
   "outputs": [],
   "source": [
    "model.setObjective(gb.quicksum(h[i] * I[i, t] + c[i] * y[i, t] for i in zbior_wyrobow for t in zbior_okresow))"
   ],
   "metadata": {
    "collapsed": false
   }
  },
  {
   "cell_type": "markdown",
   "source": [
    "---\n",
    "## Ograniczenia\n",
    "$I_{i0} = I^0_i$"
   ],
   "metadata": {
    "collapsed": false
   }
  },
  {
   "cell_type": "code",
   "execution_count": 10,
   "outputs": [],
   "source": [
    "model.addConstrs((I[i, 0] == I_0[i] for i in zbior_wyrobow), name='zapas-poczatkowy')\n",
    "model.update()"
   ],
   "metadata": {
    "collapsed": false
   }
  },
  {
   "cell_type": "markdown",
   "source": [
    "$I_{it} = I_{i(t-1)} + x_{i(t-l_i)} - \\sum_{j \\in \\mathcal{N}}( a_{ij} * x_{jt} ) - E_{it} \\qquad i \\in \\mathcal{N}, t \\in \\mathcal{T},$"
   ],
   "metadata": {
    "collapsed": false
   }
  },
  {
   "cell_type": "code",
   "execution_count": 11,
   "outputs": [],
   "source": [
    "for i in zbior_wyrobow:\n",
    "    for t in zbior_okresow:\n",
    "        model.addConstr(\n",
    "            I[i, t] == I[i, t - 1] + x[i, t - l[i]] - sum(a[i, j] * x[j, t] for j in zbior_wyrobow) - E[i, t],\n",
    "            name='bilans_zapasow(' + str(i) + ',' + str(t) + ')'\n",
    "        )"
   ],
   "metadata": {
    "collapsed": false
   }
  },
  {
   "cell_type": "markdown",
   "source": [
    "$ \\sum_{i \\in \\mathcal{N}}( p_{mi} * x_{it} + s_{mi} * y_{it}) <= L_{mt} \\qquad m \\in \\mathcal{M}, t \\in \\mathcal{T},$"
   ],
   "metadata": {
    "collapsed": false
   }
  },
  {
   "cell_type": "code",
   "execution_count": 12,
   "outputs": [],
   "source": [
    "for m in zbior_maszyn:\n",
    "    for t in zbior_okresow:\n",
    "        model.addConstr(sum(p[i, m] * x[i, t] + s[i, m] * y[i, t] for i in zbior_wyrobow) <= L[m, t],\n",
    "                        name='czas_pracy_maszyny(' + str(m) + ',' + str(t) + ')'\n",
    "                        )"
   ],
   "metadata": {
    "collapsed": false
   }
  },
  {
   "cell_type": "markdown",
   "source": [
    "$x_{it} - G * y_{it} <= 0 \\qquad i \\in \\mathcal{N}, t \\in \\mathcal{T},$"
   ],
   "metadata": {
    "collapsed": false
   }
  },
  {
   "cell_type": "code",
   "execution_count": 13,
   "outputs": [],
   "source": [
    "for i in zbior_wyrobow:\n",
    "    for t in zbior_okresow:\n",
    "        model.addConstr(\n",
    "            x[i, t] - G * y[i, t] <= 0,\n",
    "            name='produkcja_wyrobu(' + str(i) + ',' + str(t) + ')'\n",
    "        )"
   ],
   "metadata": {
    "collapsed": false
   }
  },
  {
   "cell_type": "markdown",
   "source": [
    "---\n",
    "## Optymalizacja"
   ],
   "metadata": {
    "collapsed": false
   }
  },
  {
   "cell_type": "code",
   "execution_count": 14,
   "outputs": [
    {
     "name": "stdout",
     "output_type": "stream",
     "text": [
      "Gurobi Optimizer version 10.0.1 build v10.0.1rc0 (win64)\n",
      "\n",
      "CPU model: Intel(R) Core(TM) i7-8550U CPU @ 1.80GHz, instruction set [SSE2|AVX|AVX2]\n",
      "Thread count: 4 physical cores, 8 logical processors, using up to 8 threads\n",
      "\n",
      "Optimize a model with 26 rows, 28 columns and 66 nonzeros\n",
      "Model fingerprint: 0x06bd9458\n",
      "Variable types: 0 continuous, 28 integer (8 binary)\n",
      "Coefficient statistics:\n",
      "  Matrix range     [5e-02, 1e+06]\n",
      "  Objective range  [1e+00, 5e+00]\n",
      "  Bounds range     [1e+00, 1e+00]\n",
      "  RHS range        [1e+00, 3e+00]\n",
      "Found heuristic solution: objective 24.0000000\n",
      "Presolve removed 22 rows and 22 columns\n",
      "Presolve time: 0.06s\n",
      "Presolved: 4 rows, 6 columns, 9 nonzeros\n",
      "Variable types: 0 continuous, 6 integer (3 binary)\n",
      "\n",
      "Root relaxation: objective 2.200000e+01, 2 iterations, 0.04 seconds (0.00 work units)\n",
      "\n",
      "    Nodes    |    Current Node    |     Objective Bounds      |     Work\n",
      " Expl Unexpl |  Obj  Depth IntInf | Incumbent    BestBd   Gap | It/Node Time\n",
      "\n",
      "*    0     0               0      22.0000000   22.00000  0.00%     -    0s\n",
      "\n",
      "Explored 1 nodes (2 simplex iterations) in 0.24 seconds (0.00 work units)\n",
      "Thread count was 8 (of 8 available processors)\n",
      "\n",
      "Solution count 2: 22 24 \n",
      "\n",
      "Optimal solution found (tolerance 1.00e-04)\n",
      "Best objective 2.200000000000e+01, best bound 2.200000000000e+01, gap 0.0000%\n"
     ]
    }
   ],
   "source": [
    "# Aktualizacja całego modelu, obowiązkowa przed optymalizacją\n",
    "model.update()\n",
    "\n",
    "# Optymalizacja\n",
    "model.optimize()\n",
    "\n",
    "# Zapisanie modelu do pliku\n",
    "model.write('szablony/MLCLSP_model.lp')\n",
    "model.write('szablony/MLCLSP_model.mps')\n"
   ],
   "metadata": {
    "collapsed": false
   }
  },
  {
   "cell_type": "markdown",
   "source": [
    "---\n",
    "## Wydruk modelu"
   ],
   "metadata": {
    "collapsed": false
   }
  },
  {
   "cell_type": "markdown",
   "source": [
    "### Funkcje pomocnicze"
   ],
   "metadata": {
    "collapsed": false
   }
  },
  {
   "cell_type": "code",
   "execution_count": 15,
   "outputs": [],
   "source": [
    "\n",
    "def zamien_kropkw_na_przecinek(x):\n",
    "    return (str(x).replace('.', ','))\n",
    "\n",
    "\n",
    "def wypisz_parametry_modelu(writer):\n",
    "    writer.writerow(['Zmienna', 'Wyrób i', 'Okres', 'Maszyna', 'Wyrób j', 'Wartość'])\n",
    "\n",
    "    writer.writerow(['Nazwa modelu', '', '', '', '', model.ModelName])\n",
    "    writer.writerow(['Wersja solvera', '', '', '', '', 'Gurobi {}.{}.{}'.format(*gb.gurobi.version())])\n",
    "    writer.writerow(['Data rozwiązania', '', '', '', '', time.strftime(\"%a, %d %b %Y %H:%M:%S\", time.localtime())])\n",
    "    writer.writerow(['Liczba ograniczeń', '', '', '', '', model.NumConstrs])\n",
    "    writer.writerow(['Liczba zmiennych', '', '', '', '', model.NumVars])\n",
    "    writer.writerow(['Liczba zmiennych binarnych', '', '', '', '', model.NumBinVars])\n",
    "    writer.writerow(['Czas rozwiązywania', '', '', '', '', zamien_kropkw_na_przecinek(round(model.Runtime, 1))])\n",
    "    writer.writerow(['Liczba iteracji', '', '', '', '', int(model.IterCount)])\n",
    "    writer.writerow(['Rozwiązanie', '', '', '', '', zamien_kropkw_na_przecinek(round(model.ObjBound, 1))])\n",
    "\n",
    "    writer.writerow(['n', '', '', '', '', zbior_wyrobow.size])\n",
    "    writer.writerow(['T', '', '', '', '', zbior_okresow.size])\n",
    "\n",
    "    # dane wejsciowe\n",
    "    for wyrob in zbior_wyrobow:\n",
    "        writer.writerow(['h', wyrob, '', '', '', zamien_kropkw_na_przecinek(h[wyrob])])\n",
    "        writer.writerow(['c', wyrob, '', '', '', zamien_kropkw_na_przecinek(c[wyrob])])\n",
    "        writer.writerow(['l', wyrob, '', '', '', zamien_kropkw_na_przecinek(l[wyrob])])\n",
    "        writer.writerow(['I_0', '', '0', '', '', zamien_kropkw_na_przecinek(I_0[wyrob])])\n",
    "\n",
    "    for wyrob_i in zbior_wyrobow:\n",
    "        for wyrob_j in zbior_wyrobow:\n",
    "            writer.writerow(['a', wyrob_i, '', '', wyrob_j, zamien_kropkw_na_przecinek(a[wyrob_i, wyrob_j])])\n",
    "\n",
    "    for wyrob in zbior_wyrobow:\n",
    "        for okres in zbior_okresow:\n",
    "            writer.writerow(['E', wyrob, okres, '', '', zamien_kropkw_na_przecinek(E[wyrob, okres])])\n",
    "\n",
    "    for wyrob in zbior_wyrobow:\n",
    "        for maszyna in zbior_maszyn:\n",
    "            writer.writerow(['pmi', wyrob, '', maszyna, '', zamien_kropkw_na_przecinek(p[wyrob, maszyna])])\n",
    "            writer.writerow(['smi', wyrob, '', maszyna, '', zamien_kropkw_na_przecinek(s[wyrob, maszyna])])\n",
    "\n",
    "    for okres in zbior_okresow:\n",
    "        for maszyna in zbior_maszyn:\n",
    "            writer.writerow(['L', '', okres, maszyna, '', zamien_kropkw_na_przecinek(L[maszyna, okres])])"
   ],
   "metadata": {
    "collapsed": false
   }
  },
  {
   "cell_type": "markdown",
   "source": [
    "### Wydruk"
   ],
   "metadata": {
    "collapsed": false
   },
   "execution_count": 1
  },
  {
   "cell_type": "code",
   "execution_count": 16,
   "outputs": [],
   "source": [
    "import csv, time\n",
    "\n",
    "plik_z_rozwiazaniem = 'szablony/MLCLSP_wyniki.csv'\n",
    "\n",
    "with open(plik_z_rozwiazaniem, 'w', newline='') as csvfile:\n",
    "    writer = csv.writer(csvfile, delimiter=';', quoting=csv.QUOTE_NONE)\n",
    "    # Czy rozwiazanie jest wykonalne\n",
    "    if model.status == gb.GRB.INFEASIBLE:\n",
    "        # rowiązanie niewykonalne\n",
    "        model.computeIIS()\n",
    "        wypisz_parametry_modelu(writer)\n",
    "        writer.writerow(['Przez podane zmienne model jest niewykonalny:'])\n",
    "        for c in model.getConstrs():\n",
    "            if c.IISConstr:\n",
    "                writer.writerow(['Parametr', c.constrName])\n",
    "    else:\n",
    "        # rozwiązanie wykonalne\n",
    "        wypisz_parametry_modelu(writer)\n",
    "\n",
    "        for wyrob in zbior_wyrobow:\n",
    "            for okres in zbior_okresow:\n",
    "                writer.writerow(['y', wyrob, okres, '', '', zamien_kropkw_na_przecinek(round(y[wyrob, okres].x, 1))])\n",
    "                writer.writerow(['x', wyrob, okres, '', '', zamien_kropkw_na_przecinek(round(x[wyrob, okres].x, 1))])\n",
    "                writer.writerow(['I', wyrob, okres, '', '', zamien_kropkw_na_przecinek(round(I[wyrob, okres].x, 1))])"
   ],
   "metadata": {
    "collapsed": false
   }
  }
 ],
 "metadata": {
  "kernelspec": {
   "display_name": "Python 3",
   "language": "python",
   "name": "python3"
  },
  "language_info": {
   "codemirror_mode": {
    "name": "ipython",
    "version": 3
   },
   "file_extension": ".py",
   "mimetype": "text/x-python",
   "name": "python",
   "nbconvert_exporter": "python",
   "pygments_lexer": "ipython3",
   "version": "3.7.7"
  }
 },
 "nbformat": 4,
 "nbformat_minor": 4
}

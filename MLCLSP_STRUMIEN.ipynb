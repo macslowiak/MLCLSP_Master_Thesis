{
 "cells": [
  {
   "cell_type": "markdown",
   "source": [
    "# Model MLCLSP\n",
    "\n",
    "(ang. Multi-level Capacitated Lot-sizing Problem, MLCLSP)\n",
    "\n",
    "### Parametry:\n",
    "\n",
    "$\\mathcal{T}$ -- zbiór okresów czasu (zmian, dni lub tygodni),\n",
    "\n",
    "$\\mathcal{N}$ -- zbiór wyrobów,\n",
    "\n",
    "$\\mathcal{M}$ -- zbiór maszyn,\n",
    "\n",
    "$\\mathcal{\\phi(m)}$ -- zbiór wyrobów, które są produkowane na maszynie $m$\n",
    "\n",
    "$a_i$ -- liczba wyrobów $i$ potrzebnych do wyprodukowania jednego elementu $j$,\n",
    "\n",
    "$p_{i}$ -- czas potrzebny na wyprodukowanie wyrobu $i$,\n",
    "\n",
    "$c_{ij}$ -- koszt przezbrojenia z produkcji wyrobu $i$ na produkcję ryobu $j$, $c_{ii} = 0$,\n",
    "\n",
    "$E_{it}$ -- zewnętrzne zapotrzebowanie na wyrób $i$ w okresie $t$,\n",
    "\n",
    "$I_{i0}$ -- zapas początkowy wyrobu $i$,\n",
    "\n",
    "$h_i$ -- jednostkowy koszt utrzymywania zapasów wyrobu $i$,\n",
    "\n",
    "$L_{mt}$ -- dostępny czas pracy maszyny $m$ w okresie $t$,\n",
    "\n",
    "$s_{ij}$ -- czas potrzebny na przezbrojenie się z produkcji wyrobu $i$ na produkcję wyrobu $j$, $s_{ii} = 0$,\n",
    "\n",
    "\n",
    "### Zmienne:\n",
    "\n",
    "$I_{it}$ -- zapas wyrobu $i$ na koniec okresu $t$,\n",
    "\n",
    "$x_{it}$ -- wielkość produkcji wyrobu $i$ w okresie $t$,\n",
    "\n",
    "$\\mu^{s}_{it}$ -- czas rozpoczęcia produkcji wyrobu $i$ w okresie $t$,\n",
    "\n",
    "$\\alpha_{itm} = 1$, jeżeli maszyna $m$ jest przezbrojona na wyrób $i$ na początku okresu $t$, $0$ w przeciwnym razie,\n",
    "\n",
    "$T_{ijtm} = 1$, jeżeli nastąpiło przezbrojenie z wyrobu $i$ na wyrób $j$ na maszynie $m$ w okresie $t$, $0$ w przeciwnym razie,\n"
   ],
   "metadata": {
    "collapsed": false
   }
  },
  {
   "cell_type": "code",
   "execution_count": 845,
   "outputs": [],
   "source": [
    "import numpy as np\n",
    "import pandas as pd"
   ],
   "metadata": {
    "collapsed": false
   }
  },
  {
   "cell_type": "markdown",
   "source": [
    "---\n",
    "## Zaczytanie danych wejściowych z pliku excel"
   ],
   "metadata": {
    "collapsed": false
   }
  },
  {
   "cell_type": "code",
   "execution_count": 846,
   "outputs": [
    {
     "name": "stdout",
     "output_type": "stream",
     "text": [
      "   wyrob  hi  Ii0\n",
      "0      0   3    0\n",
      "1      1   2    0\n",
      "2      2   2    0\n",
      "3      3   1    0\n",
      "   wyrob/okres  1  2\n",
      "0            0  3  0\n",
      "1            1  0  2\n",
      "2            2  0  0\n",
      "3            3  0  0\n",
      "   pmi    0    1    2\n",
      "0    0  0.1  0.0  0.0\n",
      "1    1  0.0  0.4  0.0\n",
      "2    2  0.0  0.0  0.1\n",
      "3    3  0.0  0.0  0.1\n",
      "   sij  0  1     2     3\n",
      "0    0  0  0  0.00  0.00\n",
      "1    1  0  0  0.00  0.00\n",
      "2    2  0  0  0.00  0.05\n",
      "3    3  0  0  0.05  0.00\n",
      "   Lmt  1  2\n",
      "0    0  1  1\n",
      "1    1  1  1\n",
      "2    2  1  1\n",
      "   cij  0  1  2  3\n",
      "0    0  0  0  0  0\n",
      "1    1  0  0  0  0\n",
      "2    2  0  0  0  5\n",
      "3    3  0  0  5  0\n",
      "   j/i  0  1  2  3\n",
      "0    0  0  0  0  0\n",
      "1    1  0  0  0  0\n",
      "2    2  1  0  0  0\n",
      "3    3  0  1  1  0\n"
     ]
    }
   ],
   "source": [
    "# nazwy kolejnych wyrobów, maszyn i okresów w pliku excel muszą być kolejnymi liczbami naturalnymi zaczynającymi się o cyfry 0\n",
    "wejscie_wyroby = pd.read_excel('szablony/MLCLSP_STRUMIEN_wejscie.xlsx', sheet_name='WYROBY')\n",
    "wejscie_okresy = pd.read_excel('szablony/MLCLSP_STRUMIEN_wejscie.xlsx', sheet_name='ZAPOTRZEBOWANIE')\n",
    "wejscie_czas_produkcji = pd.read_excel('szablony/MLCLSP_STRUMIEN_wejscie.xlsx', sheet_name='CZAS_PRODUKCJI')\n",
    "wejscie_czas_przezbrojenia = pd.read_excel('szablony/MLCLSP_STRUMIEN_wejscie.xlsx', sheet_name='CZAS_PRZEZBROJENIA')\n",
    "wejscie_dostepnosc_maszyn = pd.read_excel('szablony/MLCLSP_STRUMIEN_wejscie.xlsx', sheet_name='DOSTEPNOSC_MASZYN')\n",
    "wejscie_koszt_przezbrojenia = pd.read_excel('szablony/MLCLSP_STRUMIEN_wejscie.xlsx', sheet_name='KOSZT_PRZEZBROJENIA')\n",
    "bom = pd.read_excel('szablony/MLCLSP_STRUMIEN_wejscie.xlsx', sheet_name='BOM')\n",
    "\n",
    "print(wejscie_wyroby)\n",
    "print(wejscie_okresy)\n",
    "print(wejscie_czas_produkcji)\n",
    "print(wejscie_czas_przezbrojenia)\n",
    "print(wejscie_dostepnosc_maszyn)\n",
    "print(wejscie_koszt_przezbrojenia)\n",
    "print(bom)"
   ],
   "metadata": {
    "collapsed": false
   }
  },
  {
   "cell_type": "markdown",
   "source": [
    "---\n",
    "## Wyciągnięcie danych z zaczytanych tabel"
   ],
   "metadata": {
    "collapsed": false
   }
  },
  {
   "cell_type": "code",
   "execution_count": 847,
   "outputs": [
    {
     "name": "stdout",
     "output_type": "stream",
     "text": [
      "Zbiór wyrobów:  [0 1 2 3]\n",
      "Zbiór okresów:  [1 2]\n",
      "Zbiór maszyn:  [0 1 2]\n",
      "Zbiór okresów z okresem początkowym:  [0 1 2]\n",
      "Zbiór okresów dla przezbrojen poczatkowych:  [1 2 3]\n"
     ]
    }
   ],
   "source": [
    "zbior_wyrobow = wejscie_wyroby.loc[:, 'wyrob'].values\n",
    "zbior_okresow = wejscie_okresy.iloc[:, 1:].columns.values\n",
    "zbior_maszyn = wejscie_czas_produkcji.iloc[:, 1:].columns.values\n",
    "zbior_okresow_wraz_z_poczatkowym = np.append(0, zbior_okresow)\n",
    "zbior_okresow_dla_przezbrojen_poczatkowych = np.append(zbior_okresow,\n",
    "                                                       zbior_okresow[-1] + 1)\n",
    "\n",
    "print('Zbiór wyrobów: ', zbior_wyrobow)\n",
    "print('Zbiór okresów: ', zbior_okresow)\n",
    "print('Zbiór maszyn: ', zbior_maszyn)\n",
    "print('Zbiór okresów z okresem początkowym: ', zbior_okresow_wraz_z_poczatkowym)\n",
    "print('Zbiór okresów dla przezbrojen poczatkowych: ', zbior_okresow_dla_przezbrojen_poczatkowych)"
   ],
   "metadata": {
    "collapsed": false
   }
  },
  {
   "cell_type": "code",
   "execution_count": 848,
   "outputs": [
    {
     "name": "stdout",
     "output_type": "stream",
     "text": [
      "Jednostkowy koszt utrzymania wyrobu i:  [3 2 2 1]\n",
      "Zapasy początkowe:  [0 0 0 0]\n"
     ]
    }
   ],
   "source": [
    "h = wejscie_wyroby.loc[:, 'hi'].values\n",
    "I_0 = wejscie_wyroby.loc[:, 'Ii0'].values\n",
    "\n",
    "print('Jednostkowy koszt utrzymania wyrobu i: ', h)\n",
    "print('Zapasy początkowe: ', I_0)"
   ],
   "metadata": {
    "collapsed": false
   }
  },
  {
   "cell_type": "markdown",
   "source": [
    "#### Przypisanie wyrobów do odpowiednich maszyn"
   ],
   "metadata": {
    "collapsed": false
   }
  },
  {
   "cell_type": "code",
   "execution_count": 849,
   "outputs": [
    {
     "name": "stdout",
     "output_type": "stream",
     "text": [
      "Czas produkcji wyrobu i:  [0.1, 0.4, 0.1, 0.1]\n",
      "Wyroby przypisane do maszyn:  [0 1 2 2]\n",
      "Zbiór maszyn z przypisanymi wyrobami:  [[0], [1], [2, 3]]\n"
     ]
    }
   ],
   "source": [
    "p = []\n",
    "wyroby_przypisane_do_maszyn = []\n",
    "zbior_maszyn_z_przypisanymi_wyrobami = []\n",
    "pmi_tabela = wejscie_czas_produkcji.set_index('pmi').values\n",
    "\n",
    "for wiersz in pmi_tabela:\n",
    "    if np.count_nonzero(wiersz) == 1:\n",
    "        machine_index = int(np.nonzero(wiersz)[0])\n",
    "        p.append(wiersz[machine_index].item())\n",
    "        wyroby_przypisane_do_maszyn.append(machine_index)\n",
    "    else:\n",
    "        raise Exception(\n",
    "            \"Każdy wyrób może być produkowany tylko na jednej maszynie. Należy poprawić dane w arkuszu 'CZAS_PRODUKCJI'. \")\n",
    "\n",
    "wyroby_przypisane_do_maszyn = np.array(wyroby_przypisane_do_maszyn)\n",
    "for i in zbior_maszyn:\n",
    "    przypisane_wyroby = np.where(wyroby_przypisane_do_maszyn == i)[0].tolist()\n",
    "    zbior_maszyn_z_przypisanymi_wyrobami.append(przypisane_wyroby)\n",
    "\n",
    "print('Czas produkcji wyrobu i: ', p)\n",
    "print('Wyroby przypisane do maszyn: ', wyroby_przypisane_do_maszyn)\n",
    "print('Zbiór maszyn z przypisanymi wyrobami: ', zbior_maszyn_z_przypisanymi_wyrobami)"
   ],
   "metadata": {
    "collapsed": false
   }
  },
  {
   "cell_type": "code",
   "execution_count": 850,
   "outputs": [
    {
     "name": "stdout",
     "output_type": "stream",
     "text": [
      "Macierz powiązań między produktami: \n",
      " [[0 0 0 0]\n",
      " [0 0 0 0]\n",
      " [1 0 0 0]\n",
      " [0 1 1 0]]\n",
      "Macierz z zewnętrznym zapotrzebowaniem na produkt i w okresie t (pierwsza kolumna to odpowiednik produktu): \n",
      " [[0 3 0]\n",
      " [1 0 2]\n",
      " [2 0 0]\n",
      " [3 0 0]]\n",
      "Czas potrzebny na przezbrojenie się z produkcji wyrobu i na produkcję ryobu j,: \n",
      " [[0.   0.   0.   0.  ]\n",
      " [0.   0.   0.   0.  ]\n",
      " [0.   0.   0.   0.05]\n",
      " [0.   0.   0.05 0.  ]]\n",
      "Koszt przezbrojenia z wyrobu i na wyrób j: \n",
      " [[0 0 0 0]\n",
      " [0 0 0 0]\n",
      " [0 0 0 5]\n",
      " [0 0 5 0]]\n",
      "Dostępność maszyny m w okresie t (pierwsza kolumna to odpowiednik maszyny): \n",
      " [[0 1 1]\n",
      " [1 1 1]\n",
      " [2 1 1]]\n"
     ]
    }
   ],
   "source": [
    "a = bom.set_index('j/i').values\n",
    "E = wejscie_okresy.values\n",
    "s = wejscie_czas_przezbrojenia.set_index('sij').values\n",
    "L = wejscie_dostepnosc_maszyn.values\n",
    "c = wejscie_koszt_przezbrojenia.set_index('cij').values\n",
    "\n",
    "print('Macierz powiązań między produktami: \\n', a)\n",
    "print('Macierz z zewnętrznym zapotrzebowaniem na produkt i w okresie t (pierwsza kolumna to odpowiednik produktu): \\n',\n",
    "      E)\n",
    "print('Czas potrzebny na przezbrojenie się z produkcji wyrobu i na produkcję ryobu j,: \\n', s)\n",
    "print('Koszt przezbrojenia z wyrobu i na wyrób j: \\n', c)\n",
    "print('Dostępność maszyny m w okresie t (pierwsza kolumna to odpowiednik maszyny): \\n', L)"
   ],
   "metadata": {
    "collapsed": false
   }
  },
  {
   "cell_type": "markdown",
   "source": [
    "---\n",
    "## Sprawdzenie poprawności wpisanych danych dla czasu przezbrojenia oraz kosztów przezbrojenia"
   ],
   "metadata": {
    "collapsed": false
   }
  },
  {
   "cell_type": "markdown",
   "source": [
    "### Funkcje pomocnicze"
   ],
   "metadata": {
    "collapsed": false
   }
  },
  {
   "cell_type": "code",
   "execution_count": 851,
   "outputs": [],
   "source": [
    "def sprawdz_poprawnosc_dla(tabela, nazwa_arkusza):\n",
    "    for kolumna in range(len(tabela[0])):\n",
    "        for wiersz in range(len(tabela)):\n",
    "            if tabela[wiersz, kolumna] != 0:\n",
    "                if wiersz == kolumna:\n",
    "                    raise Exception(\n",
    "                        'Wartości [i,i] muszą być równe 0. Należy poprawić dane w arkuszu ' + nazwa_arkusza + ' dla: ' +\n",
    "                        '(' + str(wiersz) + ',' + str(kolumna) + ')')\n",
    "                else:\n",
    "                    is_valid = False\n",
    "                    for maszyna in zbior_maszyn_z_przypisanymi_wyrobami:\n",
    "                        if wiersz in maszyna and kolumna in maszyna:\n",
    "                            is_valid = True\n",
    "                    if not is_valid:\n",
    "                        raise Exception(\n",
    "                            'Istnieją dane dla przezbrojeń, które są niemożliwe do wykonania. Należy poprawić dane w arkuszu ' + nazwa_arkusza + ' dla: ' +\n",
    "                            '(' + str(wiersz) + ',' + str(kolumna) + ')')"
   ],
   "metadata": {
    "collapsed": false
   }
  },
  {
   "cell_type": "code",
   "execution_count": 852,
   "outputs": [],
   "source": [
    "sprawdz_poprawnosc_dla(s, 'CZAS_PRZEZBROJENIA')\n",
    "sprawdz_poprawnosc_dla(c, 'KOSZT_PRZEZBROJENIA')"
   ],
   "metadata": {
    "collapsed": false
   }
  },
  {
   "cell_type": "markdown",
   "source": [
    "---\n",
    "## Utworzenie modelu Gurobi oraz zmiennych\n",
    "\n",
    "$I_{it} >= 0, x_{it} >= 0,  \\mu^{s}_{it} >= 0\n",
    "\\alpha_{itm}, T_{ijtm} \\in {0,1} \\qquad i,j \\in \\mathcal{N}, t \\in \\mathcal{T}, m \\in \\mathcal{M}, $\n"
   ],
   "metadata": {
    "collapsed": false
   }
  },
  {
   "cell_type": "code",
   "execution_count": 853,
   "outputs": [
    {
     "name": "stdout",
     "output_type": "stream",
     "text": [
      "Nazwa zmiennej: x(1,3)\n"
     ]
    }
   ],
   "source": [
    "import gurobipy as gb\n",
    "\n",
    "model = gb.Model('MLCLSP_STRUMIEN')\n",
    "\n",
    "# Deklaracje zmiennych (decyzyjnych)\n",
    "x = {}\n",
    "alfa = {}\n",
    "T = {}\n",
    "u = {}\n",
    "I = {}\n",
    "\n",
    "for i in zbior_wyrobow:\n",
    "    for j in zbior_wyrobow:\n",
    "        for t in zbior_okresow:\n",
    "            for m in zbior_maszyn:\n",
    "                T[i, j, t, m] = model.addVar(vtype=gb.GRB.BINARY,\n",
    "                                             name='T(' + str(i) + ',' + str(j) + ',' + str(t) + ',' + str(m) + ')')\n",
    "    for t in zbior_okresow:\n",
    "        x[i, t] = model.addVar(vtype=gb.GRB.CONTINUOUS, lb=0, name='x(' + str(i) + ',' + str(t) + ')')\n",
    "        u[i, t] = model.addVar(vtype=gb.GRB.CONTINUOUS, lb=0, name='u(' + str(i) + ',' + str(t) + ')')\n",
    "\n",
    "print('Nazwa zmiennej:', 'x(' + str(1) + ',' + str(3) + ')')\n",
    "for i in zbior_wyrobow:\n",
    "    for t in zbior_okresow_wraz_z_poczatkowym:\n",
    "        I[i, t] = model.addVar(vtype=gb.GRB.CONTINUOUS, lb=0, name='I(' + str(i) + ',' + str(t) + ')')\n",
    "    for t in zbior_okresow_dla_przezbrojen_poczatkowych:\n",
    "        for m in zbior_maszyn:\n",
    "            alfa[i, t, m] = model.addVar(vtype=gb.GRB.BINARY, name='alfa(' + str(i) + ',' + str(t) + ',' + str(m) + ')')\n"
   ],
   "metadata": {
    "collapsed": false
   }
  },
  {
   "cell_type": "markdown",
   "source": [
    "---\n",
    "## Funkcja celu\n",
    "$\\min \\displaystyle\\sum_{i \\in \\mathcal{N}} \\sum_{t \\in \\mathcal{T}}h_i I_{it} + \\displaystyle\\sum_{i \\in \\mathcal{N}} \\sum_{j \\in \\mathcal{N}} \\sum_{t \\in \\mathcal{T}} \\sum_{m \\in \\mathcal{M}}c_{ij} T_{ijtm}$"
   ],
   "metadata": {
    "collapsed": false
   }
  },
  {
   "cell_type": "code",
   "execution_count": 854,
   "outputs": [],
   "source": [
    "model.setObjective(gb.quicksum(h[i] * I[i, t] for i in zbior_wyrobow for t in zbior_okresow) +\n",
    "                   gb.quicksum(\n",
    "                       c[i, j] * T[i, j, t, m] for i in zbior_wyrobow for j in zbior_wyrobow for t in zbior_okresow for\n",
    "                       m in zbior_maszyn))"
   ],
   "metadata": {
    "collapsed": false
   }
  },
  {
   "cell_type": "markdown",
   "source": [
    "---\n",
    "## Ograniczenia\n",
    "$I_{i0} = I^0_i$"
   ],
   "metadata": {
    "collapsed": false
   }
  },
  {
   "cell_type": "code",
   "execution_count": 855,
   "outputs": [],
   "source": [
    "model.addConstrs((I[i, 0] == I_0[i] for i in zbior_wyrobow), name='zapas-poczatkowy')\n",
    "model.update()"
   ],
   "metadata": {
    "collapsed": false
   }
  },
  {
   "cell_type": "markdown",
   "source": [
    "$T_{ijtm} = 0 \\qquad i,j \\notin \\mathcal{\\phi(m)}, $\\\n",
    "$T_{ijtm} = 0 \\qquad i=j, $\\\n",
    "$\\alpha_{itm} = 0 \\qquad i \\notin \\mathcal{\\phi(m)}$"
   ],
   "metadata": {
    "collapsed": false
   }
  },
  {
   "cell_type": "code",
   "execution_count": 856,
   "outputs": [],
   "source": [
    "for m in zbior_maszyn:\n",
    "    for t in zbior_okresow:\n",
    "        for i in zbior_wyrobow:\n",
    "            for j in zbior_wyrobow:\n",
    "                if i==j or i not in zbior_maszyn_z_przypisanymi_wyrobami[m] or j not in zbior_maszyn_z_przypisanymi_wyrobami[m]:\n",
    "                    model.addConstr(T[i,j,t,m] == 0, name='t_limit[i,j,t,m](' + str(i) + ','+ str(j) + ','+ str(t) + ',' + str(m) + ')')\n",
    "            if i not in zbior_maszyn_z_przypisanymi_wyrobami[m]:\n",
    "                model.addConstr(alfa[i,t,m] == 0,name='alfa_limit[i,t,m](' + str(i) + ',' + str(t) + ',' + str(m) + ')')"
   ],
   "metadata": {
    "collapsed": false
   }
  },
  {
   "cell_type": "markdown",
   "source": [
    "$I_{it} - I_{i(t-1)} - x_{it} + \\sum_{j \\in \\mathcal{N}}( a_{ij} * x_{jt} ) + E_{it} = 0 \\qquad i \\in \\mathcal{N}, t \\in \\mathcal{T},$"
   ],
   "metadata": {
    "collapsed": false
   }
  },
  {
   "cell_type": "code",
   "execution_count": 857,
   "outputs": [],
   "source": [
    "for i in zbior_wyrobow:\n",
    "    for t in zbior_okresow:\n",
    "        model.addConstr(\n",
    "            I[i, t] - I[i, t - 1] - x[i, t] + gb.quicksum(a[i, j] * x[j, t] for j in zbior_wyrobow) + E[i, t] == 0,\n",
    "            name='bilans_zapasow[i,t](' + str(i) + ',' + str(t) + ')'\n",
    "        )"
   ],
   "metadata": {
    "collapsed": false
   }
  },
  {
   "cell_type": "markdown",
   "source": [
    "$  p_{i} * x_{it} <= \\sum_{j \\in \\mathcal{\\phi(m)}}(T_{jitm}) + \\alpha_{itm} \\qquad m \\in \\mathcal{M}, t \\in \\mathcal{T}, i \\in \\mathcal{\\phi(m)},$\n",
    "\n",
    "Wyrób jest produkowany tylko w przypadku, gdy maszyna jest na niego przezbrojona."
   ],
   "metadata": {
    "collapsed": false
   }
  },
  {
   "cell_type": "code",
   "execution_count": 858,
   "outputs": [],
   "source": [
    "for m in zbior_maszyn:\n",
    "    for t in zbior_okresow:\n",
    "        for i in zbior_maszyn_z_przypisanymi_wyrobami[m]:\n",
    "            model.addConstr(\n",
    "                p[i] * x[i, t] <= gb.quicksum(T[j, i, t, m] for j in zbior_maszyn_z_przypisanymi_wyrobami[m]) + alfa[i, t, m],\n",
    "                name='produkcja_gdy_przezbrojona[m,i,t](' + str(m) + ',' + str(i) + ',' + str(t) + ')'\n",
    "            )"
   ],
   "metadata": {
    "collapsed": false
   }
  },
  {
   "cell_type": "markdown",
   "source": [
    "$ \\sum_{i \\in \\mathcal{\\phi(m)}}\\alpha_{itm} = 1 \\qquad m \\in \\mathcal{M}, t \\in \\mathcal{T},$\n",
    "\n",
    "W danym okresie maszyna powinna być wstępnie przezbrojona tylko na 1 wyrób."
   ],
   "metadata": {
    "collapsed": false
   }
  },
  {
   "cell_type": "code",
   "execution_count": 859,
   "outputs": [],
   "source": [
    "for m in zbior_maszyn:\n",
    "    for t in zbior_okresow:\n",
    "        model.addConstr(gb.quicksum(alfa[i, t, m] for i in zbior_maszyn_z_przypisanymi_wyrobami[m]) == 1,\n",
    "                        name='przezbrojenie_wstepne_limit[m,t](' + str(m) + ',' + str(t) + ')'\n",
    "                        )"
   ],
   "metadata": {
    "collapsed": false
   }
  },
  {
   "cell_type": "markdown",
   "source": [
    "$ \\sum_{j \\in \\mathcal{\\phi(m)}}(T_{jitm}) + \\alpha_{itm} = \\sum_{j \\in \\mathcal{\\phi(m)}}(T_{ijtm}) + \\alpha_{i(t+1)m}\n",
    " \\qquad m \\in \\mathcal{M}, t \\in \\mathcal{T}, i \\in \\mathcal{\\phi(m)},$\n",
    "\n",
    "Jeżeli maszyna jest przezbrojona na dany wyrób i w okresie t, to musi nastąpić zmiana na inny wyrób w tym samym okresie lub stan pozostanie taki jaki jest tzn. maszyna nadal będzie przezbrojona na wyrób i w okresie t+1."
   ],
   "metadata": {
    "collapsed": false
   }
  },
  {
   "cell_type": "code",
   "execution_count": 860,
   "outputs": [],
   "source": [
    "for m in zbior_maszyn:\n",
    "    for t in zbior_okresow:\n",
    "        for i in zbior_maszyn_z_przypisanymi_wyrobami[m]:\n",
    "            model.addConstr(gb.quicksum(T[j, i, t, m] for j in zbior_maszyn_z_przypisanymi_wyrobami[m]) + alfa[i, t, m] == gb.quicksum(\n",
    "                T[i, j, t, m] for j in zbior_maszyn_z_przypisanymi_wyrobami[m]) + alfa[i, t + 1, m],\n",
    "                            name='przezbrojenie_zapewnienie_stanu[m,i,t](' + str(m) + ',' + str(i) + ',' + str(t) + ')'\n",
    "                            )"
   ],
   "metadata": {
    "collapsed": false
   }
  },
  {
   "cell_type": "markdown",
   "source": [
    "$ \\sum_{j \\in \\mathcal{\\phi(m)}}T_{jitm} <= 1  \\qquad m \\in \\mathcal{M}, t \\in \\mathcal{T}, i \\in \\mathcal{\\phi(m)},$\n",
    "\n",
    "Nie można przezbroić maszyny dwa razy na ten sam produkt w tym samym okresie."
   ],
   "metadata": {
    "collapsed": false
   }
  },
  {
   "cell_type": "code",
   "execution_count": 861,
   "outputs": [],
   "source": [
    "for m in zbior_maszyn:\n",
    "    for t in zbior_okresow:\n",
    "        for i in zbior_maszyn_z_przypisanymi_wyrobami[m]:\n",
    "            model.addConstr(gb.quicksum(T[j, i, t, m] for j in zbior_maszyn_z_przypisanymi_wyrobami[m]) <= 1,\n",
    "                            name='przezbrojenie_raz_na_okres[m,i,t](' + str(m) + ',' + str(i) + ',' + str(t) + ')'\n",
    "                            )"
   ],
   "metadata": {
    "collapsed": false
   }
  },
  {
   "cell_type": "markdown",
   "source": [
    "$ \\mu^{s}_{it} + p_i * x_{it} + s{ij} * T_{ijtm} + T_{ijtm} - 1 - \\alpha_{j(t+1)m} <= \\mu^{s}_{jt}\n",
    "\\qquad m \\in \\mathcal{M}, t \\in \\mathcal{T}, i \\in \\mathcal{\\phi(m)}, j \\in \\mathcal{\\phi(m)}, $ \\\n",
    "\n",
    "$ \\mu^{s}_{it} + p_i * x_{it} + s{ij} * T_{ijtm} + \\alpha_{j(t+1)m} - 1 - \\alpha_{jtm} <= \\mu^{s}_{jt}\n",
    "\\qquad m \\in \\mathcal{M}, t \\in \\mathcal{T}, i \\in \\mathcal{\\phi(m)}, j \\in \\mathcal{\\phi(m)}, $\n",
    "\n",
    "Produkcja i przebrojenia muszą zostać tak dobrane, aby czasy przezbrojeń i startu produkcji wyrobów się zgadzały.\n",
    "Drugi warunek pozwala na określenie czasu startu produkcji ostatniego wyrobu produkowanego w okresie t na maszynie m."
   ],
   "metadata": {
    "collapsed": false
   }
  },
  {
   "cell_type": "code",
   "execution_count": 862,
   "outputs": [],
   "source": [
    "for m in zbior_maszyn:\n",
    "    for t in zbior_okresow:\n",
    "        for i in zbior_maszyn_z_przypisanymi_wyrobami[m]:\n",
    "            for j in zbior_maszyn_z_przypisanymi_wyrobami[m]:\n",
    "                if i != j:\n",
    "                    model.addConstr(\n",
    "                        u[i, t] + p[i] * x[i, t] + s[i, j] * T[i, j, t, m] + T[i, j, t, m] - 1 - alfa[j, t + 1, m] <= u[\n",
    "                            j, t],\n",
    "                        name='start_produkcji_wyrobu[i,j,m,t](' + str(i) + ',' + str(j) + ',' + str(m) + ',' + str(t) + ')'\n",
    "                    )\n",
    "                    model.addConstr(\n",
    "                        u[i, t] + p[i] * x[i, t] + s[i, j] * T[i, j, t, m] + alfa[j, t + 1, m] - 1 - alfa[j, t, m] <= u[\n",
    "                            j, t],\n",
    "                        name='start_produkcji_ostatniego_wyrobu[i,j,m,t](' + str(i) + ',' + str(j) + ',' + str(\n",
    "                            m) + ',' + str(t) + ')'\n",
    "                    )"
   ],
   "metadata": {
    "collapsed": false
   }
  },
  {
   "cell_type": "markdown",
   "source": [
    "$ \\mu^{s}_{it} + p_i * x_{it} + \\sum_{j \\in \\mathcal{\\phi(m)}} s_{ij} * T_{ijtm} <= 1\n",
    " \\qquad m \\in \\mathcal{M}, t \\in \\mathcal{T}, i \\in \\mathcal{\\phi(m)},$\n",
    "\n",
    "Limit czasu pracy maszyny."
   ],
   "metadata": {
    "collapsed": false
   }
  },
  {
   "cell_type": "code",
   "execution_count": 863,
   "outputs": [],
   "source": [
    "for m in zbior_maszyn:\n",
    "    for t in zbior_okresow:\n",
    "        for i in zbior_maszyn_z_przypisanymi_wyrobami[m]:\n",
    "            model.addConstr(\n",
    "                u[i, t] + p[i] * x[i, t] + gb.quicksum(\n",
    "                    s[i, j] * T[i, j, t, m] for j in zbior_maszyn_z_przypisanymi_wyrobami[m]) <= L[m, t],\n",
    "                name='limit_czasu_pracy_maszyny[m,t,i](' + str(m) + ',' + str(t) + ',' + str(i) + ')'\n",
    "            )"
   ],
   "metadata": {
    "collapsed": false
   }
  },
  {
   "cell_type": "markdown",
   "source": [
    "$ I_{i(t-1)} >= \\sum_{j \\in \\mathcal{i}} (a_{ij} * \\min \\displaystyle (x_{jt}, \\frac{1}{p_{j}}(\\mu^{s}_{it}-\\mu^{s}_{jt} )^+) \\qquad i \\in \\mathcal{N}, t \\in \\mathcal{T},$\n",
    "\n",
    "Zapas wyrobu i w okresie t-1 musi zaspokoić początkowe zapotrzebowanie na wyrób i w okresie t dla wszystkich wyrobów, które składają się z wyrobu i. Jeżeli produkcja i będzie kontunuowana później niż czas rozpoczęcia produkcji wyrobu j to potrzebujemy zapasu początkowego, który pozwoli nam na produkcję wyrobu j."
   ],
   "metadata": {
    "collapsed": false
   }
  },
  {
   "cell_type": "code",
   "execution_count": 864,
   "outputs": [],
   "source": [
    "# Dużo zmiennych pomocniczych bo w Gurobi w max i min nie może być operacji arytmetycznych a python max, min ma niezgodność typów"
   ],
   "metadata": {
    "collapsed": false
   }
  },
  {
   "cell_type": "code",
   "execution_count": 865,
   "outputs": [],
   "source": [
    "aux1 = {}\n",
    "aux2 = {}\n",
    "aux3 = {}\n",
    "aux4 = {}\n",
    "for i in zbior_wyrobow:\n",
    "    for t in zbior_okresow:\n",
    "        for j in zbior_wyrobow:\n",
    "            aux1[i, j, t] = model.addVar(vtype=gb.GRB.CONTINUOUS, lb=-gb.GRB.INFINITY, name='aux1(' + str(i) + ',' + str(j) + ',' + str(t) + ')')\n",
    "            aux2[i, j, t] = model.addVar(vtype=gb.GRB.CONTINUOUS, name='aux2(' + str(i) + ',' + str(j) + ',' + str(t) + ')')\n",
    "            aux3[i, j, t] = model.addVar(vtype=gb.GRB.CONTINUOUS, name='aux3(' + str(i) + ',' + str(j) + ',' + str(t) + ')')\n",
    "            aux4[i, j, t] = model.addVar(vtype=gb.GRB.CONTINUOUS, name='aux4(' + str(i) + ',' + str(j) + ',' + str(t) + ')')\n",
    "for i in zbior_wyrobow:\n",
    "    for t in zbior_okresow:\n",
    "        for j in zbior_wyrobow:\n",
    "            model.addConstr(aux1[i, j, t] == u[i, t] - u[j, t], name='aux1[i,j,t](' + str(i) + ',' + str(j) + ',' + str(t) + ')')\n",
    "            model.addConstr(aux2[i, j, t] == gb.max_([0, aux1[i, j, t]]), name='aux2[i,j,t](' + str(i) + ',' + str(j) + ',' + str(t) + ')')\n",
    "            model.addConstr(aux3[i, j, t] == aux2[i, j, t] * (1 / p[j]), name='aux3[i,j,t](' + str(i) + ',' + str(j) + ',' + str(t) + ')')\n",
    "            model.addConstr(aux4[i, j, t] == gb.min_([x[j, t], aux3[i, j, t]]), name='aux4[i,j,t](' + str(i) + ',' + str(j) + ',' + str(t) + ')')\n"
   ],
   "metadata": {
    "collapsed": false
   }
  },
  {
   "cell_type": "code",
   "execution_count": 866,
   "outputs": [],
   "source": [
    "for i in zbior_wyrobow:\n",
    "    for t in zbior_okresow:\n",
    "        model.addConstr(\n",
    "            I[i, t - 1] >= sum(a[i, j] * aux4[i, j, t] for j in zbior_wyrobow),\n",
    "            name='zapewnienie_zapasu_poczatkowego[i,t](' + str(i) + ',' + str(t) + ')'\n",
    "        )"
   ],
   "metadata": {
    "collapsed": false
   }
  },
  {
   "cell_type": "markdown",
   "source": [
    "$ I_{i(t-1)} + \\min \\displaystyle (x_{it}, \\frac{1}{p_{i}}(\\mu^{s}_{kt} + p_k*x_{kt} - \\mu^{s}_{it})^+) >=\n",
    "\\sum_{j \\in \\mathcal{i}} (a_{ij} * \\min \\displaystyle (x_{jt}, \\frac{1}{p_{j}}(\\mu^{s}_{kt} + p_k*x_{kt} - \\mu^{s}_{jt} )^+) \\qquad i,k \\in \\mathcal{N}, t \\in \\mathcal{T},$\n",
    "\n",
    "Zapas wyrobu i z okresu t-1 wraz z jego produkcją w okresie t musi zaspokoić zapotrzebowanie na wyrób i w okresie t.\n"
   ],
   "metadata": {
    "collapsed": false
   }
  },
  {
   "cell_type": "code",
   "execution_count": 867,
   "outputs": [],
   "source": [
    "aux5 = {}\n",
    "aux6 = {}\n",
    "aux7 = {}\n",
    "aux8 = {}\n",
    "for i in zbior_wyrobow:\n",
    "    for t in zbior_okresow:\n",
    "        for k in zbior_wyrobow:\n",
    "            aux5[i, k, t] = model.addVar(vtype=gb.GRB.CONTINUOUS, lb=-gb.GRB.INFINITY, name='aux5(' + str(i) + ',' + str(k) + ',' + str(t) + ')')\n",
    "            aux6[i, k, t] = model.addVar(vtype=gb.GRB.CONTINUOUS, name='aux6(' + str(i) + ',' + str(k) + ',' + str(t) + ')')\n",
    "            aux7[i, k, t] = model.addVar(vtype=gb.GRB.CONTINUOUS, name='aux7(' + str(i) + ',' + str(k) + ',' + str(t) + ')')\n",
    "            aux8[i, k, t] = model.addVar(vtype=gb.GRB.CONTINUOUS, name='aux8(' + str(i) + ',' + str(k) + ',' + str(t) + ')')\n",
    "for i in zbior_wyrobow:\n",
    "    for t in zbior_okresow:\n",
    "        for k in zbior_wyrobow:\n",
    "            model.addConstr(aux5[i, k, t] == u[k, t] + p[k] * x[k, t] - u[i, t], name='aux5[i,k,t](' + str(i) + ',' + str(k) + ',' + str(t) + ')')\n",
    "            model.addConstr(aux6[i, k, t] == gb.max_([0, aux5[i, k, t]]), name='aux6[i,k,t](' + str(i) + ',' + str(k) + ',' + str(t) + ')')\n",
    "            model.addConstr(aux7[i, k, t] == aux6[i, k, t] * (1 / p[i]), name='aux7[i,k,t](' + str(i) + ',' + str(k) + ',' + str(t) + ')')\n",
    "            model.addConstr(aux8[i, k, t] == gb.min_([x[i, t], aux7[i, k, t]]), name='aux8[i,k,t](' + str(i) + ',' + str(k) + ',' + str(t) + ')')"
   ],
   "metadata": {
    "collapsed": false
   }
  },
  {
   "cell_type": "code",
   "execution_count": 868,
   "outputs": [],
   "source": [
    "for i in zbior_wyrobow:\n",
    "    for k in zbior_wyrobow:\n",
    "        for t in zbior_okresow:\n",
    "            model.addConstr(\n",
    "                I[i, t - 1] + aux8[i, k, t] >= sum(a[i, j] * aux8[j, k, t] for j in zbior_wyrobow),\n",
    "                name='zapewnienie_zapasu[i,k,t](' + str(i) + ',' + str(k) + ',' + str(t) + ')'\n",
    "            )"
   ],
   "metadata": {
    "collapsed": false
   }
  },
  {
   "cell_type": "markdown",
   "source": [
    "---\n",
    "## Optymalizacja"
   ],
   "metadata": {
    "collapsed": false
   }
  },
  {
   "cell_type": "code",
   "execution_count": 869,
   "outputs": [
    {
     "name": "stdout",
     "output_type": "stream",
     "text": [
      "Gurobi Optimizer version 10.0.1 build v10.0.1rc0 (win64)\n",
      "\n",
      "CPU model: Intel(R) Core(TM) i7-8550U CPU @ 1.80GHz, instruction set [SSE2|AVX|AVX2]\n",
      "Thread count: 4 physical cores, 8 logical processors, using up to 8 threads\n",
      "\n",
      "Optimize a model with 334 rows, 416 columns and 700 nonzeros\n",
      "Model fingerprint: 0x3fe598c8\n",
      "Model has 128 general constraints\n",
      "Variable types: 284 continuous, 132 integer (132 binary)\n",
      "Coefficient statistics:\n",
      "  Matrix range     [5e-02, 1e+01]\n",
      "  Objective range  [1e+00, 5e+00]\n",
      "  Bounds range     [1e+00, 1e+00]\n",
      "  RHS range        [1e+00, 3e+00]\n",
      "Presolve removed 99 rows and 208 columns\n",
      "Presolve time: 0.03s\n",
      "Presolved: 235 rows, 208 columns, 702 nonzeros\n",
      "Variable types: 143 continuous, 65 integer (65 binary)\n",
      "\n",
      "Root relaxation: objective 6.000000e+00, 35 iterations, 0.00 seconds (0.00 work units)\n",
      "\n",
      "    Nodes    |    Current Node    |     Objective Bounds      |     Work\n",
      " Expl Unexpl |  Obj  Depth IntInf | Incumbent    BestBd   Gap | It/Node Time\n",
      "\n",
      "     0     0    6.00000    0    5          -    6.00000      -     -    0s\n",
      "H    0     0                       7.0000000    6.00000  14.3%     -    0s\n",
      "\n",
      "Cutting planes:\n",
      "  Implied bound: 4\n",
      "  MIR: 3\n",
      "  Flow cover: 6\n",
      "  RLT: 1\n",
      "\n",
      "Explored 1 nodes (35 simplex iterations) in 0.12 seconds (0.01 work units)\n",
      "Thread count was 8 (of 8 available processors)\n",
      "\n",
      "Solution count 1: 7 \n",
      "\n",
      "Optimal solution found (tolerance 1.00e-04)\n",
      "Best objective 7.000000000000e+00, best bound 7.000000000000e+00, gap 0.0000%\n"
     ]
    }
   ],
   "source": [
    "# Aktualizacja całego modelu, obowiązkowa przed optymalizacją\n",
    "model.update()\n",
    "\n",
    "# Optymalizacja\n",
    "model.optimize()\n",
    "\n",
    "# Zapisanie modelu do pliku\n",
    "model.write('szablony/MLCLSP_STRUMIEN_model.lp')\n",
    "model.write('szablony/MLCLSP_STRUMIEN_model.mps')\n"
   ],
   "metadata": {
    "collapsed": false
   }
  },
  {
   "cell_type": "markdown",
   "source": [
    "---\n",
    "## Wydruk modelu"
   ],
   "metadata": {
    "collapsed": false
   }
  },
  {
   "cell_type": "markdown",
   "source": [
    "### Funkcje pomocnicze"
   ],
   "metadata": {
    "collapsed": false
   }
  },
  {
   "cell_type": "code",
   "execution_count": 871,
   "outputs": [],
   "source": [
    "\n",
    "def zamien_kropkw_na_przecinek(x):\n",
    "    return (str(x).replace('.', ','))\n",
    "\n",
    "\n",
    "def wypisz_parametry_modelu(writer):\n",
    "    writer.writerow(['Zmienna', 'Wyrób i', 'Okres', 'Maszyna', 'Wyrób j', 'Wartość'])\n",
    "\n",
    "    writer.writerow(['Nazwa modelu', '', '', '', '', model.ModelName])\n",
    "    writer.writerow(['Wersja solvera', '', '', '', '', 'Gurobi {}.{}.{}'.format(*gb.gurobi.version())])\n",
    "    writer.writerow(['Data rozwiązania', '', '', '', '', time.strftime(\"%a, %d %b %Y %H:%M:%S\", time.localtime())])\n",
    "    writer.writerow(['Liczba ograniczeń', '', '', '', '', model.NumConstrs])\n",
    "    writer.writerow(['Liczba zmiennych', '', '', '', '', model.NumVars])\n",
    "    writer.writerow(['Liczba zmiennych binarnych', '', '', '', '', model.NumBinVars])\n",
    "    writer.writerow(['Czar rozwiązywania', '', '', '', '', zamien_kropkw_na_przecinek(round(model.Runtime, 2))])\n",
    "    writer.writerow(['Liczba iteracji', '', '', '', '', int(model.IterCount)])\n",
    "    writer.writerow(['Rozwiązanie', '', '', '', '', zamien_kropkw_na_przecinek(round(model.ObjBound, 2))])\n",
    "\n",
    "    writer.writerow(['n', '', '', '', '', zbior_wyrobow.size])\n",
    "    writer.writerow(['T', '', '', '', '', zbior_okresow.size])\n",
    "\n",
    "    # dane wejsciowe\n",
    "    for wyrob_i in zbior_wyrobow:\n",
    "        writer.writerow(['h', wyrob_i, '', '', '', zamien_kropkw_na_przecinek(h[wyrob_i])])\n",
    "        writer.writerow(['I_0', '', '0', '', '', zamien_kropkw_na_przecinek(I_0[wyrob_i])])\n",
    "        writer.writerow(['p', wyrob_i, '', '', '', zamien_kropkw_na_przecinek(p[wyrob_i])])\n",
    "\n",
    "    for wyrob_i in zbior_wyrobow:\n",
    "        for wyrob_j in zbior_wyrobow:\n",
    "            writer.writerow(['a', wyrob_i, '', '', wyrob_j, zamien_kropkw_na_przecinek(a[wyrob_i, wyrob_j])])\n",
    "            writer.writerow(['s', wyrob_i, '', '', wyrob_j, zamien_kropkw_na_przecinek(s[wyrob_i, wyrob_j])])\n",
    "            writer.writerow(['c', wyrob_i, '', '', wyrob_j, zamien_kropkw_na_przecinek(c[wyrob_i, wyrob_j])])\n",
    "\n",
    "    for wyrob_i in zbior_wyrobow:\n",
    "        for okres in zbior_okresow:\n",
    "            writer.writerow(['E', wyrob_i, okres, '', '', zamien_kropkw_na_przecinek(E[wyrob_i, okres])])\n",
    "\n",
    "    for okres in zbior_okresow:\n",
    "        for maszyna in zbior_maszyn:\n",
    "            writer.writerow(['L', '', okres, maszyna, '', zamien_kropkw_na_przecinek(L[maszyna, okres])])"
   ],
   "metadata": {
    "collapsed": false
   }
  },
  {
   "cell_type": "markdown",
   "source": [
    "### Wydruk"
   ],
   "metadata": {
    "collapsed": false
   },
   "execution_count": 1
  },
  {
   "cell_type": "code",
   "execution_count": 872,
   "outputs": [],
   "source": [
    "import csv, time\n",
    "\n",
    "plik_z_rozwiazaniem = 'szablony/MLCLSP_STRUMIEN_wyniki.csv'\n",
    "\n",
    "with open(plik_z_rozwiazaniem, 'w', newline='') as csvfile:\n",
    "    writer = csv.writer(csvfile, delimiter=';', quoting=csv.QUOTE_NONE)\n",
    "    # Czy rozwiazanie jest wykonalne\n",
    "    if model.status == gb.GRB.INFEASIBLE:\n",
    "        # rowiązanie niewykonalne\n",
    "        model.computeIIS()\n",
    "        wypisz_parametry_modelu(writer)\n",
    "        writer.writerow(['Przez podane zmienne model jest niewykonalny:'])\n",
    "        for c in model.getConstrs():\n",
    "            if c.IISConstr:\n",
    "                writer.writerow(['Parametr', c.constrName])\n",
    "    else:\n",
    "        # rozwiązanie wykonalne\n",
    "        wypisz_parametry_modelu(writer)\n",
    "\n",
    "        for wyrob_i in zbior_wyrobow:\n",
    "            for okres in zbior_okresow:\n",
    "                writer.writerow(\n",
    "                    ['x', wyrob_i, okres, '', '', zamien_kropkw_na_przecinek(round(x[wyrob_i, okres].x, 2))])\n",
    "                writer.writerow(\n",
    "                    ['I', wyrob_i, okres, '', '', zamien_kropkw_na_przecinek(round(I[wyrob_i, okres].x, 2))])\n",
    "                writer.writerow(\n",
    "                    ['u', wyrob_i, okres, '', '', zamien_kropkw_na_przecinek(round(u[wyrob_i, okres].x, 2))])\n",
    "                for wyrob_j in zbior_wyrobow:\n",
    "                    for maszyna in zbior_maszyn:\n",
    "                        writer.writerow(['T', wyrob_i, okres, maszyna, wyrob_j,\n",
    "                                         zamien_kropkw_na_przecinek(round(T[wyrob_i, wyrob_j, okres, maszyna].x, 2))])\n",
    "                for maszyna in zbior_maszyn:\n",
    "                    writer.writerow(['alpha', wyrob_i, okres, maszyna, '',\n",
    "                                     zamien_kropkw_na_przecinek(round(alfa[wyrob_i, okres, maszyna].x, 2))])\n"
   ],
   "metadata": {
    "collapsed": false
   }
  }
 ],
 "metadata": {
  "kernelspec": {
   "display_name": "Python 3",
   "language": "python",
   "name": "python3"
  },
  "language_info": {
   "codemirror_mode": {
    "name": "ipython",
    "version": 3
   },
   "file_extension": ".py",
   "mimetype": "text/x-python",
   "name": "python",
   "nbconvert_exporter": "python",
   "pygments_lexer": "ipython3",
   "version": "3.7.7"
  }
 },
 "nbformat": 4,
 "nbformat_minor": 4
}
